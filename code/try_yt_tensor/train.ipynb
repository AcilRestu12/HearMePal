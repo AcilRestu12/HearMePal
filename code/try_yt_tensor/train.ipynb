{
 "cells": [
  {
   "cell_type": "markdown",
   "metadata": {},
   "source": [
    "## Import Library"
   ]
  },
  {
   "cell_type": "code",
   "execution_count": 34,
   "metadata": {},
   "outputs": [],
   "source": [
    "import json\n",
    "import numpy as np\n",
    "import tensorflow as tf\n",
    "from sklearn.preprocessing import LabelEncoder\n",
    "from nltk_utils import tokenize, stem, bag_of_words\n",
    "from model import create_model\n",
    "import matplotlib.pyplot as plt\n",
    "from keras import layers, models\n",
    "from keras.models import Sequential\n",
    "from keras.layers import Input, Embedding, LSTM, LayerNormalization, Dense, Dropout\n",
    "from sklearn.feature_extraction.text import CountVectorizer, TfidfTransformer, TfidfVectorizer"
   ]
  },
  {
   "cell_type": "markdown",
   "metadata": {},
   "source": [
    "## Define Variables"
   ]
  },
  {
   "cell_type": "code",
   "execution_count": 35,
   "metadata": {},
   "outputs": [],
   "source": [
    "PATH_INTENTS = '../../data/intents.json'\n",
    "PATH_MODEL = 'chat_model.h5'\n",
    "PATH_METADATA = 'metadata.json'"
   ]
  },
  {
   "cell_type": "code",
   "execution_count": 36,
   "metadata": {},
   "outputs": [],
   "source": [
    "# Define lists\n",
    "all_words = []  # Words in the patterns\n",
    "tags = []       # Tags of sentences\n",
    "xy = []         # (Pattern sentence, Tag) pairs"
   ]
  },
  {
   "cell_type": "markdown",
   "metadata": {},
   "source": [
    "## Load Data"
   ]
  },
  {
   "cell_type": "code",
   "execution_count": 37,
   "metadata": {},
   "outputs": [],
   "source": [
    "# Open file json\n",
    "with open(PATH_INTENTS, 'r') as f:\n",
    "    intents = json.load(f)"
   ]
  },
  {
   "cell_type": "markdown",
   "metadata": {},
   "source": [
    "## Data Preparation"
   ]
  },
  {
   "cell_type": "code",
   "execution_count": 38,
   "metadata": {},
   "outputs": [],
   "source": [
    "# # Process each intent\n",
    "# for intent in intents['intents']:\n",
    "#     tag = intent['tag']\n",
    "#     tags.append(tag)\n",
    "#     for pattern in intent['patterns']:\n",
    "#         w = tokenize(pattern)\n",
    "#         all_words.extend(w)\n",
    "#         xy.append((w, tag))"
   ]
  },
  {
   "cell_type": "code",
   "execution_count": 39,
   "metadata": {},
   "outputs": [],
   "source": [
    "# Process each intent\n",
    "for intent in intents['intents']:\n",
    "    tag = intent['tag']\n",
    "    tags.append(tag)\n",
    "    for pattern in intent['patterns']:\n",
    "        xy.append((pattern, tag))\n",
    "        all_words.append(pattern)"
   ]
  },
  {
   "cell_type": "code",
   "execution_count": 40,
   "metadata": {},
   "outputs": [
    {
     "data": {
      "text/plain": [
       "[('Hi', 'greeting'),\n",
       " ('Hey', 'greeting'),\n",
       " ('Is anyone there?', 'greeting'),\n",
       " ('Hi there', 'greeting'),\n",
       " ('Hello', 'greeting')]"
      ]
     },
     "execution_count": 40,
     "metadata": {},
     "output_type": "execute_result"
    }
   ],
   "source": [
    "xy[:5]"
   ]
  },
  {
   "cell_type": "code",
   "execution_count": 41,
   "metadata": {},
   "outputs": [],
   "source": [
    "# Stemming\n",
    "ignore_words = ['?', '!', '.', ',']\n",
    "all_words = [stem(w) for w in all_words if w not in ignore_words]\n",
    "# all_words = sorted(set(all_words))\n",
    "# tags = sorted(set(tags))"
   ]
  },
  {
   "cell_type": "code",
   "execution_count": 42,
   "metadata": {},
   "outputs": [],
   "source": [
    "tags = sorted(set(tags))\n",
    "tag_to_index = {tag: idx for idx, tag in enumerate(tags)}"
   ]
  },
  {
   "cell_type": "code",
   "execution_count": 43,
   "metadata": {},
   "outputs": [
    {
     "data": {
      "text/plain": [
       "{'about': 0,\n",
       " 'afternoon': 1,\n",
       " 'anxious': 2,\n",
       " 'ask': 3,\n",
       " 'casual': 4,\n",
       " 'creation': 5,\n",
       " 'death': 6,\n",
       " 'default': 7,\n",
       " 'depressed': 8,\n",
       " 'done': 9,\n",
       " 'evening': 10,\n",
       " 'fact-1': 11,\n",
       " 'fact-10': 12,\n",
       " 'fact-11': 13,\n",
       " 'fact-12': 14,\n",
       " 'fact-13': 15,\n",
       " 'fact-14': 16,\n",
       " 'fact-15': 17,\n",
       " 'fact-16': 18,\n",
       " 'fact-17': 19,\n",
       " 'fact-18': 20,\n",
       " 'fact-19': 21,\n",
       " 'fact-2': 22,\n",
       " 'fact-20': 23,\n",
       " 'fact-21': 24,\n",
       " 'fact-22': 25,\n",
       " 'fact-23': 26,\n",
       " 'fact-24': 27,\n",
       " 'fact-25': 28,\n",
       " 'fact-26': 29,\n",
       " 'fact-27': 30,\n",
       " 'fact-28': 31,\n",
       " 'fact-29': 32,\n",
       " 'fact-3': 33,\n",
       " 'fact-30': 34,\n",
       " 'fact-31': 35,\n",
       " 'fact-32': 36,\n",
       " 'fact-5': 37,\n",
       " 'fact-6': 38,\n",
       " 'fact-7': 39,\n",
       " 'fact-8': 40,\n",
       " 'fact-9': 41,\n",
       " 'friends': 42,\n",
       " 'goodbye': 43,\n",
       " 'greeting': 44,\n",
       " 'happy': 45,\n",
       " 'hate-me': 46,\n",
       " 'hate-you': 47,\n",
       " 'help': 48,\n",
       " 'jokes': 49,\n",
       " 'learn-mental-health': 50,\n",
       " 'learn-more': 51,\n",
       " 'location': 52,\n",
       " 'meditation': 53,\n",
       " 'mental-health-fact': 54,\n",
       " 'morning': 55,\n",
       " 'name': 56,\n",
       " 'neutral-response': 57,\n",
       " 'night': 58,\n",
       " 'no-approach': 59,\n",
       " 'no-response': 60,\n",
       " 'not-talking': 61,\n",
       " 'pandora-useful': 62,\n",
       " 'problem': 63,\n",
       " 'repeat': 64,\n",
       " 'sad': 65,\n",
       " 'scared': 66,\n",
       " 'skill': 67,\n",
       " 'sleep': 68,\n",
       " 'something-else': 69,\n",
       " 'stressed': 70,\n",
       " 'stupid': 71,\n",
       " 'suicide': 72,\n",
       " 'thanks': 73,\n",
       " 'understand': 74,\n",
       " 'user-advice': 75,\n",
       " 'user-agree': 76,\n",
       " 'user-meditation': 77,\n",
       " 'worthless': 78,\n",
       " 'wrong': 79}"
      ]
     },
     "execution_count": 43,
     "metadata": {},
     "output_type": "execute_result"
    }
   ],
   "source": [
    "tag_to_index"
   ]
  },
  {
   "cell_type": "code",
   "execution_count": 44,
   "metadata": {},
   "outputs": [
    {
     "data": {
      "text/plain": [
       "['about',\n",
       " 'afternoon',\n",
       " 'anxious',\n",
       " 'ask',\n",
       " 'casual',\n",
       " 'creation',\n",
       " 'death',\n",
       " 'default',\n",
       " 'depressed',\n",
       " 'done',\n",
       " 'evening',\n",
       " 'fact-1',\n",
       " 'fact-10',\n",
       " 'fact-11',\n",
       " 'fact-12',\n",
       " 'fact-13',\n",
       " 'fact-14',\n",
       " 'fact-15',\n",
       " 'fact-16',\n",
       " 'fact-17',\n",
       " 'fact-18',\n",
       " 'fact-19',\n",
       " 'fact-2',\n",
       " 'fact-20',\n",
       " 'fact-21',\n",
       " 'fact-22',\n",
       " 'fact-23',\n",
       " 'fact-24',\n",
       " 'fact-25',\n",
       " 'fact-26',\n",
       " 'fact-27',\n",
       " 'fact-28',\n",
       " 'fact-29',\n",
       " 'fact-3',\n",
       " 'fact-30',\n",
       " 'fact-31',\n",
       " 'fact-32',\n",
       " 'fact-5',\n",
       " 'fact-6',\n",
       " 'fact-7',\n",
       " 'fact-8',\n",
       " 'fact-9',\n",
       " 'friends',\n",
       " 'goodbye',\n",
       " 'greeting',\n",
       " 'happy',\n",
       " 'hate-me',\n",
       " 'hate-you',\n",
       " 'help',\n",
       " 'jokes',\n",
       " 'learn-mental-health',\n",
       " 'learn-more',\n",
       " 'location',\n",
       " 'meditation',\n",
       " 'mental-health-fact',\n",
       " 'morning',\n",
       " 'name',\n",
       " 'neutral-response',\n",
       " 'night',\n",
       " 'no-approach',\n",
       " 'no-response',\n",
       " 'not-talking',\n",
       " 'pandora-useful',\n",
       " 'problem',\n",
       " 'repeat',\n",
       " 'sad',\n",
       " 'scared',\n",
       " 'skill',\n",
       " 'sleep',\n",
       " 'something-else',\n",
       " 'stressed',\n",
       " 'stupid',\n",
       " 'suicide',\n",
       " 'thanks',\n",
       " 'understand',\n",
       " 'user-advice',\n",
       " 'user-agree',\n",
       " 'user-meditation',\n",
       " 'worthless',\n",
       " 'wrong']"
      ]
     },
     "execution_count": 44,
     "metadata": {},
     "output_type": "execute_result"
    }
   ],
   "source": [
    "tags"
   ]
  },
  {
   "cell_type": "code",
   "execution_count": 45,
   "metadata": {},
   "outputs": [
    {
     "data": {
      "text/plain": [
       "[\"how do i know if i'm unwell?\",\n",
       " 'how can i maintain social connections? what if i feel lonely?',\n",
       " \"what's the difference between anxiety and stress?\",\n",
       " \"what's the difference between sadness and depression?\",\n",
       " 'difference between sadness and depress']"
      ]
     },
     "execution_count": 45,
     "metadata": {},
     "output_type": "execute_result"
    }
   ],
   "source": [
    "all_words[-5:]"
   ]
  },
  {
   "cell_type": "code",
   "execution_count": 46,
   "metadata": {},
   "outputs": [
    {
     "data": {
      "text/plain": [
       "['about', 'afternoon', 'anxious', 'ask', 'casual']"
      ]
     },
     "execution_count": 46,
     "metadata": {},
     "output_type": "execute_result"
    }
   ],
   "source": [
    "tags[:5]"
   ]
  },
  {
   "cell_type": "code",
   "execution_count": 47,
   "metadata": {},
   "outputs": [],
   "source": [
    "# # Create training data\n",
    "# x_train = []\n",
    "# y_train = []\n",
    "# for (pattern_sentence, tag) in xy:\n",
    "#     bag = bag_of_words(pattern_sentence, all_words)\n",
    "#     x_train.append(bag)\n",
    "#     y_train.append(tag)"
   ]
  },
  {
   "cell_type": "code",
   "execution_count": 48,
   "metadata": {},
   "outputs": [],
   "source": [
    "# Melakukan vektorisasi untuk mengekstrak fitur dengan TF-IDF\n",
    "vectorizer = TfidfVectorizer(tokenizer=tokenize,\n",
    "                             min_df = 5,\n",
    "                             max_df = 0.8,\n",
    "                             sublinear_tf = True,\n",
    "                             use_idf = True)"
   ]
  },
  {
   "cell_type": "code",
   "execution_count": 49,
   "metadata": {},
   "outputs": [
    {
     "name": "stderr",
     "output_type": "stream",
     "text": [
      "d:\\Coding\\Projects\\HearMePal\\env\\lib\\site-packages\\sklearn\\feature_extraction\\text.py:523: UserWarning: The parameter 'token_pattern' will not be used since 'tokenizer' is not None'\n",
      "  warnings.warn(\n"
     ]
    }
   ],
   "source": [
    "# Create TF-IDF vectorizer and transform the corpus\n",
    "# vectorizer = TfidfVectorizer(tokenizer=tokenize)\n",
    "x_train = vectorizer.fit_transform(all_words).toarray()\n",
    "y_train = np.array([tag_to_index[tag] for _, tag in xy])"
   ]
  },
  {
   "cell_type": "code",
   "execution_count": 50,
   "metadata": {},
   "outputs": [],
   "source": [
    "# Convert to numpy arrays\n",
    "x_train = np.array(x_train)\n",
    "label_encoder = LabelEncoder()\n",
    "y_train = label_encoder.fit_transform(y_train)\n",
    "y_train = tf.keras.utils.to_categorical(y_train, num_classes=len(tags))"
   ]
  },
  {
   "cell_type": "code",
   "execution_count": 51,
   "metadata": {},
   "outputs": [],
   "source": [
    "# Mengubah ukuran data menjadi ukuran yang diterima oleh LTSM\n",
    "x_train = np.reshape(x_train, (x_train.shape[0],x_train.shape[1],1))"
   ]
  },
  {
   "cell_type": "code",
   "execution_count": 52,
   "metadata": {},
   "outputs": [
    {
     "data": {
      "text/plain": [
       "(232, 50, 1)"
      ]
     },
     "execution_count": 52,
     "metadata": {},
     "output_type": "execute_result"
    }
   ],
   "source": [
    "x_train.shape"
   ]
  },
  {
   "cell_type": "markdown",
   "metadata": {},
   "source": [
    "## Modeling"
   ]
  },
  {
   "cell_type": "code",
   "execution_count": 53,
   "metadata": {},
   "outputs": [],
   "source": [
    "# Define hyperparameters\n",
    "input_size = len(x_train[0])\n",
    "hidden_size = 8\n",
    "output_size = len(tags)\n",
    "learning_rate = 0.001\n",
    "num_epochs = 100\n",
    "batch_size = 8"
   ]
  },
  {
   "cell_type": "code",
   "execution_count": 54,
   "metadata": {},
   "outputs": [
    {
     "data": {
      "text/plain": [
       "80"
      ]
     },
     "execution_count": 54,
     "metadata": {},
     "output_type": "execute_result"
    }
   ],
   "source": [
    "output_size"
   ]
  },
  {
   "cell_type": "code",
   "execution_count": 55,
   "metadata": {},
   "outputs": [],
   "source": [
    "# Create the model\n",
    "# model = models.Sequential()\n",
    "# model.add(layers.Input(shape=(input_size,)))\n",
    "# model.add(layers.Dense(64))\n",
    "# model.add(layers.Dense(32))\n",
    "# model.add(layers.Dense(16))\n",
    "# model.add(layers.Dense(hidden_size))\n",
    "# model.add(layers.Dense(output_size, activation='softmax'))"
   ]
  },
  {
   "cell_type": "code",
   "execution_count": 56,
   "metadata": {},
   "outputs": [
    {
     "data": {
      "text/plain": [
       "232"
      ]
     },
     "execution_count": 56,
     "metadata": {},
     "output_type": "execute_result"
    }
   ],
   "source": [
    "len(xy)"
   ]
  },
  {
   "cell_type": "code",
   "execution_count": 57,
   "metadata": {},
   "outputs": [
    {
     "data": {
      "text/plain": [
       "50"
      ]
     },
     "execution_count": 57,
     "metadata": {},
     "output_type": "execute_result"
    }
   ],
   "source": [
    "input_size"
   ]
  },
  {
   "cell_type": "code",
   "execution_count": 58,
   "metadata": {},
   "outputs": [
    {
     "data": {
      "text/plain": [
       "(232, 50, 1)"
      ]
     },
     "execution_count": 58,
     "metadata": {},
     "output_type": "execute_result"
    }
   ],
   "source": [
    "x_train.shape"
   ]
  },
  {
   "cell_type": "code",
   "execution_count": 59,
   "metadata": {},
   "outputs": [
    {
     "data": {
      "text/plain": [
       "(232, 80)"
      ]
     },
     "execution_count": 59,
     "metadata": {},
     "output_type": "execute_result"
    }
   ],
   "source": [
    "y_train.shape"
   ]
  },
  {
   "cell_type": "code",
   "execution_count": 60,
   "metadata": {},
   "outputs": [],
   "source": [
    "model = Sequential()\n",
    "model.add(layers.Input(shape=(input_size,1)))\n",
    "model.add(LSTM(32, return_sequences=True))\n",
    "model.add(LayerNormalization())\n",
    "model.add(LSTM(32, return_sequences=True))\n",
    "model.add(LayerNormalization())\n",
    "model.add(LSTM(32))\n",
    "model.add(LayerNormalization())\n",
    "model.add(Dense(128, activation=\"relu\"))\n",
    "model.add(LayerNormalization())\n",
    "model.add(Dropout(0.2))\n",
    "model.add(Dense(128, activation=\"relu\"))\n",
    "model.add(LayerNormalization())\n",
    "model.add(Dropout(0.2))\n",
    "model.add(Dense(output_size, activation=\"softmax\"))"
   ]
  },
  {
   "cell_type": "code",
   "execution_count": 61,
   "metadata": {},
   "outputs": [],
   "source": [
    "# Compile the model\n",
    "model.compile(optimizer=tf.keras.optimizers.Adam(learning_rate=learning_rate),\n",
    "              loss='categorical_crossentropy',\n",
    "              metrics=['accuracy'])"
   ]
  },
  {
   "cell_type": "code",
   "execution_count": 62,
   "metadata": {},
   "outputs": [
    {
     "name": "stdout",
     "output_type": "stream",
     "text": [
      "Epoch 1/100\n",
      "\u001b[1m21/21\u001b[0m \u001b[32m━━━━━━━━━━━━━━━━━━━━\u001b[0m\u001b[37m\u001b[0m \u001b[1m38s\u001b[0m 337ms/step - accuracy: 0.0251 - loss: 4.6392 - val_accuracy: 0.0000e+00 - val_loss: 5.7952\n",
      "Epoch 2/100\n",
      "\u001b[1m21/21\u001b[0m \u001b[32m━━━━━━━━━━━━━━━━━━━━\u001b[0m\u001b[37m\u001b[0m \u001b[1m2s\u001b[0m 116ms/step - accuracy: 0.0470 - loss: 3.8936 - val_accuracy: 0.0000e+00 - val_loss: 6.5493\n",
      "Epoch 3/100\n",
      "\u001b[1m21/21\u001b[0m \u001b[32m━━━━━━━━━━━━━━━━━━━━\u001b[0m\u001b[37m\u001b[0m \u001b[1m2s\u001b[0m 107ms/step - accuracy: 0.0540 - loss: 3.6044 - val_accuracy: 0.0000e+00 - val_loss: 7.0727\n",
      "Epoch 4/100\n",
      "\u001b[1m21/21\u001b[0m \u001b[32m━━━━━━━━━━━━━━━━━━━━\u001b[0m\u001b[37m\u001b[0m \u001b[1m2s\u001b[0m 89ms/step - accuracy: 0.0579 - loss: 3.3713 - val_accuracy: 0.0000e+00 - val_loss: 7.3898\n",
      "Epoch 5/100\n",
      "\u001b[1m21/21\u001b[0m \u001b[32m━━━━━━━━━━━━━━━━━━━━\u001b[0m\u001b[37m\u001b[0m \u001b[1m2s\u001b[0m 95ms/step - accuracy: 0.0801 - loss: 3.2723 - val_accuracy: 0.0000e+00 - val_loss: 7.3975\n",
      "Epoch 6/100\n",
      "\u001b[1m21/21\u001b[0m \u001b[32m━━━━━━━━━━━━━━━━━━━━\u001b[0m\u001b[37m\u001b[0m \u001b[1m2s\u001b[0m 97ms/step - accuracy: 0.0781 - loss: 3.3025 - val_accuracy: 0.0000e+00 - val_loss: 7.7377\n",
      "Epoch 7/100\n",
      "\u001b[1m21/21\u001b[0m \u001b[32m━━━━━━━━━━━━━━━━━━━━\u001b[0m\u001b[37m\u001b[0m \u001b[1m2s\u001b[0m 69ms/step - accuracy: 0.1481 - loss: 3.1985 - val_accuracy: 0.0000e+00 - val_loss: 7.4145\n",
      "Epoch 8/100\n",
      "\u001b[1m21/21\u001b[0m \u001b[32m━━━━━━━━━━━━━━━━━━━━\u001b[0m\u001b[37m\u001b[0m \u001b[1m2s\u001b[0m 49ms/step - accuracy: 0.1428 - loss: 3.1738 - val_accuracy: 0.0000e+00 - val_loss: 7.9903\n",
      "Epoch 9/100\n",
      "\u001b[1m21/21\u001b[0m \u001b[32m━━━━━━━━━━━━━━━━━━━━\u001b[0m\u001b[37m\u001b[0m \u001b[1m1s\u001b[0m 47ms/step - accuracy: 0.2088 - loss: 2.9819 - val_accuracy: 0.0000e+00 - val_loss: 8.4444\n",
      "Epoch 10/100\n",
      "\u001b[1m21/21\u001b[0m \u001b[32m━━━━━━━━━━━━━━━━━━━━\u001b[0m\u001b[37m\u001b[0m \u001b[1m1s\u001b[0m 47ms/step - accuracy: 0.1406 - loss: 2.9157 - val_accuracy: 0.0000e+00 - val_loss: 8.4550\n",
      "Epoch 11/100\n",
      "\u001b[1m21/21\u001b[0m \u001b[32m━━━━━━━━━━━━━━━━━━━━\u001b[0m\u001b[37m\u001b[0m \u001b[1m1s\u001b[0m 46ms/step - accuracy: 0.1702 - loss: 2.7137 - val_accuracy: 0.0000e+00 - val_loss: 8.4571\n",
      "Epoch 12/100\n",
      "\u001b[1m21/21\u001b[0m \u001b[32m━━━━━━━━━━━━━━━━━━━━\u001b[0m\u001b[37m\u001b[0m \u001b[1m1s\u001b[0m 52ms/step - accuracy: 0.1441 - loss: 2.8768 - val_accuracy: 0.0000e+00 - val_loss: 8.2856\n",
      "Epoch 13/100\n",
      "\u001b[1m21/21\u001b[0m \u001b[32m━━━━━━━━━━━━━━━━━━━━\u001b[0m\u001b[37m\u001b[0m \u001b[1m1s\u001b[0m 47ms/step - accuracy: 0.1672 - loss: 2.8888 - val_accuracy: 0.0000e+00 - val_loss: 8.5248\n",
      "Epoch 14/100\n",
      "\u001b[1m21/21\u001b[0m \u001b[32m━━━━━━━━━━━━━━━━━━━━\u001b[0m\u001b[37m\u001b[0m \u001b[1m1s\u001b[0m 50ms/step - accuracy: 0.2294 - loss: 2.7242 - val_accuracy: 0.0000e+00 - val_loss: 8.2829\n",
      "Epoch 15/100\n",
      "\u001b[1m21/21\u001b[0m \u001b[32m━━━━━━━━━━━━━━━━━━━━\u001b[0m\u001b[37m\u001b[0m \u001b[1m1s\u001b[0m 47ms/step - accuracy: 0.1688 - loss: 2.5835 - val_accuracy: 0.0000e+00 - val_loss: 8.5891\n",
      "Epoch 16/100\n",
      "\u001b[1m21/21\u001b[0m \u001b[32m━━━━━━━━━━━━━━━━━━━━\u001b[0m\u001b[37m\u001b[0m \u001b[1m1s\u001b[0m 54ms/step - accuracy: 0.2537 - loss: 2.5024 - val_accuracy: 0.0000e+00 - val_loss: 8.7784\n",
      "Epoch 17/100\n",
      "\u001b[1m21/21\u001b[0m \u001b[32m━━━━━━━━━━━━━━━━━━━━\u001b[0m\u001b[37m\u001b[0m \u001b[1m1s\u001b[0m 46ms/step - accuracy: 0.2267 - loss: 2.5203 - val_accuracy: 0.0000e+00 - val_loss: 8.8073\n",
      "Epoch 18/100\n",
      "\u001b[1m21/21\u001b[0m \u001b[32m━━━━━━━━━━━━━━━━━━━━\u001b[0m\u001b[37m\u001b[0m \u001b[1m1s\u001b[0m 49ms/step - accuracy: 0.1893 - loss: 2.5227 - val_accuracy: 0.0000e+00 - val_loss: 9.0577\n",
      "Epoch 19/100\n",
      "\u001b[1m21/21\u001b[0m \u001b[32m━━━━━━━━━━━━━━━━━━━━\u001b[0m\u001b[37m\u001b[0m \u001b[1m1s\u001b[0m 46ms/step - accuracy: 0.1682 - loss: 2.6412 - val_accuracy: 0.0000e+00 - val_loss: 8.5841\n",
      "Epoch 20/100\n",
      "\u001b[1m21/21\u001b[0m \u001b[32m━━━━━━━━━━━━━━━━━━━━\u001b[0m\u001b[37m\u001b[0m \u001b[1m1s\u001b[0m 45ms/step - accuracy: 0.2524 - loss: 2.3034 - val_accuracy: 0.0000e+00 - val_loss: 8.9920\n",
      "Epoch 21/100\n",
      "\u001b[1m21/21\u001b[0m \u001b[32m━━━━━━━━━━━━━━━━━━━━\u001b[0m\u001b[37m\u001b[0m \u001b[1m1s\u001b[0m 54ms/step - accuracy: 0.2318 - loss: 2.3451 - val_accuracy: 0.0000e+00 - val_loss: 9.0248\n",
      "Epoch 22/100\n",
      "\u001b[1m21/21\u001b[0m \u001b[32m━━━━━━━━━━━━━━━━━━━━\u001b[0m\u001b[37m\u001b[0m \u001b[1m1s\u001b[0m 46ms/step - accuracy: 0.2885 - loss: 2.2547 - val_accuracy: 0.0000e+00 - val_loss: 8.9904\n",
      "Epoch 23/100\n",
      "\u001b[1m21/21\u001b[0m \u001b[32m━━━━━━━━━━━━━━━━━━━━\u001b[0m\u001b[37m\u001b[0m \u001b[1m1s\u001b[0m 51ms/step - accuracy: 0.2105 - loss: 2.4957 - val_accuracy: 0.0000e+00 - val_loss: 9.2170\n",
      "Epoch 24/100\n",
      "\u001b[1m21/21\u001b[0m \u001b[32m━━━━━━━━━━━━━━━━━━━━\u001b[0m\u001b[37m\u001b[0m \u001b[1m1s\u001b[0m 49ms/step - accuracy: 0.2306 - loss: 2.2481 - val_accuracy: 0.0000e+00 - val_loss: 9.4193\n",
      "Epoch 25/100\n",
      "\u001b[1m21/21\u001b[0m \u001b[32m━━━━━━━━━━━━━━━━━━━━\u001b[0m\u001b[37m\u001b[0m \u001b[1m1s\u001b[0m 51ms/step - accuracy: 0.2758 - loss: 2.2192 - val_accuracy: 0.0000e+00 - val_loss: 8.9970\n",
      "Epoch 26/100\n",
      "\u001b[1m21/21\u001b[0m \u001b[32m━━━━━━━━━━━━━━━━━━━━\u001b[0m\u001b[37m\u001b[0m \u001b[1m1s\u001b[0m 50ms/step - accuracy: 0.2684 - loss: 2.2855 - val_accuracy: 0.0000e+00 - val_loss: 9.0412\n",
      "Epoch 27/100\n",
      "\u001b[1m21/21\u001b[0m \u001b[32m━━━━━━━━━━━━━━━━━━━━\u001b[0m\u001b[37m\u001b[0m \u001b[1m1s\u001b[0m 49ms/step - accuracy: 0.2909 - loss: 2.1801 - val_accuracy: 0.0000e+00 - val_loss: 9.0963\n",
      "Epoch 28/100\n",
      "\u001b[1m21/21\u001b[0m \u001b[32m━━━━━━━━━━━━━━━━━━━━\u001b[0m\u001b[37m\u001b[0m \u001b[1m1s\u001b[0m 46ms/step - accuracy: 0.2722 - loss: 2.2399 - val_accuracy: 0.0000e+00 - val_loss: 8.6890\n",
      "Epoch 29/100\n",
      "\u001b[1m21/21\u001b[0m \u001b[32m━━━━━━━━━━━━━━━━━━━━\u001b[0m\u001b[37m\u001b[0m \u001b[1m1s\u001b[0m 47ms/step - accuracy: 0.3074 - loss: 2.1353 - val_accuracy: 0.0000e+00 - val_loss: 9.4354\n",
      "Epoch 30/100\n",
      "\u001b[1m21/21\u001b[0m \u001b[32m━━━━━━━━━━━━━━━━━━━━\u001b[0m\u001b[37m\u001b[0m \u001b[1m1s\u001b[0m 48ms/step - accuracy: 0.2471 - loss: 2.2878 - val_accuracy: 0.0000e+00 - val_loss: 9.5335\n",
      "Epoch 31/100\n",
      "\u001b[1m21/21\u001b[0m \u001b[32m━━━━━━━━━━━━━━━━━━━━\u001b[0m\u001b[37m\u001b[0m \u001b[1m1s\u001b[0m 50ms/step - accuracy: 0.3220 - loss: 2.1005 - val_accuracy: 0.0000e+00 - val_loss: 9.4368\n",
      "Epoch 32/100\n",
      "\u001b[1m21/21\u001b[0m \u001b[32m━━━━━━━━━━━━━━━━━━━━\u001b[0m\u001b[37m\u001b[0m \u001b[1m1s\u001b[0m 48ms/step - accuracy: 0.2630 - loss: 2.1962 - val_accuracy: 0.0000e+00 - val_loss: 9.3479\n",
      "Epoch 33/100\n",
      "\u001b[1m21/21\u001b[0m \u001b[32m━━━━━━━━━━━━━━━━━━━━\u001b[0m\u001b[37m\u001b[0m \u001b[1m1s\u001b[0m 46ms/step - accuracy: 0.3555 - loss: 1.9654 - val_accuracy: 0.0000e+00 - val_loss: 9.3263\n",
      "Epoch 34/100\n",
      "\u001b[1m21/21\u001b[0m \u001b[32m━━━━━━━━━━━━━━━━━━━━\u001b[0m\u001b[37m\u001b[0m \u001b[1m1s\u001b[0m 49ms/step - accuracy: 0.3365 - loss: 2.0102 - val_accuracy: 0.0000e+00 - val_loss: 9.6410\n",
      "Epoch 35/100\n",
      "\u001b[1m21/21\u001b[0m \u001b[32m━━━━━━━━━━━━━━━━━━━━\u001b[0m\u001b[37m\u001b[0m \u001b[1m1s\u001b[0m 47ms/step - accuracy: 0.2860 - loss: 2.1755 - val_accuracy: 0.0000e+00 - val_loss: 9.4053\n",
      "Epoch 36/100\n",
      "\u001b[1m21/21\u001b[0m \u001b[32m━━━━━━━━━━━━━━━━━━━━\u001b[0m\u001b[37m\u001b[0m \u001b[1m1s\u001b[0m 49ms/step - accuracy: 0.2311 - loss: 2.1578 - val_accuracy: 0.0000e+00 - val_loss: 9.2484\n",
      "Epoch 37/100\n",
      "\u001b[1m21/21\u001b[0m \u001b[32m━━━━━━━━━━━━━━━━━━━━\u001b[0m\u001b[37m\u001b[0m \u001b[1m1s\u001b[0m 49ms/step - accuracy: 0.3603 - loss: 1.8324 - val_accuracy: 0.0000e+00 - val_loss: 9.9988\n",
      "Epoch 38/100\n",
      "\u001b[1m21/21\u001b[0m \u001b[32m━━━━━━━━━━━━━━━━━━━━\u001b[0m\u001b[37m\u001b[0m \u001b[1m1s\u001b[0m 46ms/step - accuracy: 0.3424 - loss: 1.9898 - val_accuracy: 0.0000e+00 - val_loss: 9.7680\n",
      "Epoch 39/100\n",
      "\u001b[1m21/21\u001b[0m \u001b[32m━━━━━━━━━━━━━━━━━━━━\u001b[0m\u001b[37m\u001b[0m \u001b[1m1s\u001b[0m 48ms/step - accuracy: 0.3076 - loss: 1.9384 - val_accuracy: 0.0000e+00 - val_loss: 9.5957\n",
      "Epoch 40/100\n",
      "\u001b[1m21/21\u001b[0m \u001b[32m━━━━━━━━━━━━━━━━━━━━\u001b[0m\u001b[37m\u001b[0m \u001b[1m1s\u001b[0m 47ms/step - accuracy: 0.4003 - loss: 1.7859 - val_accuracy: 0.0000e+00 - val_loss: 9.7859\n",
      "Epoch 41/100\n",
      "\u001b[1m21/21\u001b[0m \u001b[32m━━━━━━━━━━━━━━━━━━━━\u001b[0m\u001b[37m\u001b[0m \u001b[1m1s\u001b[0m 54ms/step - accuracy: 0.4205 - loss: 1.7947 - val_accuracy: 0.0000e+00 - val_loss: 9.8983\n",
      "Epoch 42/100\n",
      "\u001b[1m21/21\u001b[0m \u001b[32m━━━━━━━━━━━━━━━━━━━━\u001b[0m\u001b[37m\u001b[0m \u001b[1m1s\u001b[0m 45ms/step - accuracy: 0.3273 - loss: 1.7453 - val_accuracy: 0.0000e+00 - val_loss: 9.9856\n",
      "Epoch 43/100\n",
      "\u001b[1m21/21\u001b[0m \u001b[32m━━━━━━━━━━━━━━━━━━━━\u001b[0m\u001b[37m\u001b[0m \u001b[1m1s\u001b[0m 56ms/step - accuracy: 0.3715 - loss: 1.6590 - val_accuracy: 0.0000e+00 - val_loss: 9.6538\n",
      "Epoch 44/100\n",
      "\u001b[1m21/21\u001b[0m \u001b[32m━━━━━━━━━━━━━━━━━━━━\u001b[0m\u001b[37m\u001b[0m \u001b[1m1s\u001b[0m 46ms/step - accuracy: 0.3190 - loss: 1.7271 - val_accuracy: 0.0000e+00 - val_loss: 9.7776\n",
      "Epoch 45/100\n",
      "\u001b[1m21/21\u001b[0m \u001b[32m━━━━━━━━━━━━━━━━━━━━\u001b[0m\u001b[37m\u001b[0m \u001b[1m1s\u001b[0m 49ms/step - accuracy: 0.4562 - loss: 1.6417 - val_accuracy: 0.0143 - val_loss: 9.9546\n",
      "Epoch 46/100\n",
      "\u001b[1m21/21\u001b[0m \u001b[32m━━━━━━━━━━━━━━━━━━━━\u001b[0m\u001b[37m\u001b[0m \u001b[1m1s\u001b[0m 46ms/step - accuracy: 0.3527 - loss: 1.6338 - val_accuracy: 0.0000e+00 - val_loss: 9.7273\n",
      "Epoch 47/100\n",
      "\u001b[1m21/21\u001b[0m \u001b[32m━━━━━━━━━━━━━━━━━━━━\u001b[0m\u001b[37m\u001b[0m \u001b[1m1s\u001b[0m 47ms/step - accuracy: 0.4312 - loss: 1.6028 - val_accuracy: 0.0000e+00 - val_loss: 9.9361\n",
      "Epoch 48/100\n",
      "\u001b[1m21/21\u001b[0m \u001b[32m━━━━━━━━━━━━━━━━━━━━\u001b[0m\u001b[37m\u001b[0m \u001b[1m1s\u001b[0m 47ms/step - accuracy: 0.3998 - loss: 1.8608 - val_accuracy: 0.0000e+00 - val_loss: 10.2576\n",
      "Epoch 49/100\n",
      "\u001b[1m21/21\u001b[0m \u001b[32m━━━━━━━━━━━━━━━━━━━━\u001b[0m\u001b[37m\u001b[0m \u001b[1m1s\u001b[0m 45ms/step - accuracy: 0.3803 - loss: 1.7409 - val_accuracy: 0.0000e+00 - val_loss: 10.0327\n",
      "Epoch 50/100\n",
      "\u001b[1m21/21\u001b[0m \u001b[32m━━━━━━━━━━━━━━━━━━━━\u001b[0m\u001b[37m\u001b[0m \u001b[1m1s\u001b[0m 53ms/step - accuracy: 0.3362 - loss: 1.6872 - val_accuracy: 0.0000e+00 - val_loss: 10.2228\n",
      "Epoch 51/100\n",
      "\u001b[1m21/21\u001b[0m \u001b[32m━━━━━━━━━━━━━━━━━━━━\u001b[0m\u001b[37m\u001b[0m \u001b[1m1s\u001b[0m 46ms/step - accuracy: 0.4662 - loss: 1.6294 - val_accuracy: 0.0000e+00 - val_loss: 10.1273\n",
      "Epoch 52/100\n",
      "\u001b[1m21/21\u001b[0m \u001b[32m━━━━━━━━━━━━━━━━━━━━\u001b[0m\u001b[37m\u001b[0m \u001b[1m1s\u001b[0m 47ms/step - accuracy: 0.4769 - loss: 1.5416 - val_accuracy: 0.0000e+00 - val_loss: 10.3969\n",
      "Epoch 53/100\n",
      "\u001b[1m21/21\u001b[0m \u001b[32m━━━━━━━━━━━━━━━━━━━━\u001b[0m\u001b[37m\u001b[0m \u001b[1m1s\u001b[0m 47ms/step - accuracy: 0.5188 - loss: 1.4746 - val_accuracy: 0.0000e+00 - val_loss: 10.2892\n",
      "Epoch 54/100\n",
      "\u001b[1m21/21\u001b[0m \u001b[32m━━━━━━━━━━━━━━━━━━━━\u001b[0m\u001b[37m\u001b[0m \u001b[1m1s\u001b[0m 46ms/step - accuracy: 0.4010 - loss: 1.4487 - val_accuracy: 0.0143 - val_loss: 10.4564\n",
      "Epoch 55/100\n",
      "\u001b[1m21/21\u001b[0m \u001b[32m━━━━━━━━━━━━━━━━━━━━\u001b[0m\u001b[37m\u001b[0m \u001b[1m1s\u001b[0m 48ms/step - accuracy: 0.4405 - loss: 1.6778 - val_accuracy: 0.0143 - val_loss: 10.0789\n",
      "Epoch 56/100\n",
      "\u001b[1m21/21\u001b[0m \u001b[32m━━━━━━━━━━━━━━━━━━━━\u001b[0m\u001b[37m\u001b[0m \u001b[1m1s\u001b[0m 49ms/step - accuracy: 0.4664 - loss: 1.5534 - val_accuracy: 0.0000e+00 - val_loss: 10.7014\n",
      "Epoch 57/100\n",
      "\u001b[1m21/21\u001b[0m \u001b[32m━━━━━━━━━━━━━━━━━━━━\u001b[0m\u001b[37m\u001b[0m \u001b[1m1s\u001b[0m 56ms/step - accuracy: 0.4959 - loss: 1.4232 - val_accuracy: 0.0143 - val_loss: 10.0493\n",
      "Epoch 58/100\n",
      "\u001b[1m21/21\u001b[0m \u001b[32m━━━━━━━━━━━━━━━━━━━━\u001b[0m\u001b[37m\u001b[0m \u001b[1m1s\u001b[0m 50ms/step - accuracy: 0.4740 - loss: 1.4723 - val_accuracy: 0.0000e+00 - val_loss: 10.7414\n",
      "Epoch 59/100\n",
      "\u001b[1m21/21\u001b[0m \u001b[32m━━━━━━━━━━━━━━━━━━━━\u001b[0m\u001b[37m\u001b[0m \u001b[1m1s\u001b[0m 51ms/step - accuracy: 0.5245 - loss: 1.3754 - val_accuracy: 0.0000e+00 - val_loss: 10.2114\n",
      "Epoch 60/100\n",
      "\u001b[1m21/21\u001b[0m \u001b[32m━━━━━━━━━━━━━━━━━━━━\u001b[0m\u001b[37m\u001b[0m \u001b[1m1s\u001b[0m 45ms/step - accuracy: 0.4600 - loss: 1.3180 - val_accuracy: 0.0000e+00 - val_loss: 10.9250\n",
      "Epoch 61/100\n",
      "\u001b[1m21/21\u001b[0m \u001b[32m━━━━━━━━━━━━━━━━━━━━\u001b[0m\u001b[37m\u001b[0m \u001b[1m1s\u001b[0m 48ms/step - accuracy: 0.5124 - loss: 1.3476 - val_accuracy: 0.0000e+00 - val_loss: 10.7228\n",
      "Epoch 62/100\n",
      "\u001b[1m21/21\u001b[0m \u001b[32m━━━━━━━━━━━━━━━━━━━━\u001b[0m\u001b[37m\u001b[0m \u001b[1m1s\u001b[0m 46ms/step - accuracy: 0.4748 - loss: 1.4152 - val_accuracy: 0.0000e+00 - val_loss: 10.4112\n",
      "Epoch 63/100\n",
      "\u001b[1m21/21\u001b[0m \u001b[32m━━━━━━━━━━━━━━━━━━━━\u001b[0m\u001b[37m\u001b[0m \u001b[1m1s\u001b[0m 46ms/step - accuracy: 0.5102 - loss: 1.3157 - val_accuracy: 0.0000e+00 - val_loss: 10.5838\n",
      "Epoch 64/100\n",
      "\u001b[1m21/21\u001b[0m \u001b[32m━━━━━━━━━━━━━━━━━━━━\u001b[0m\u001b[37m\u001b[0m \u001b[1m1s\u001b[0m 48ms/step - accuracy: 0.5176 - loss: 1.2847 - val_accuracy: 0.0000e+00 - val_loss: 10.4523\n",
      "Epoch 65/100\n",
      "\u001b[1m21/21\u001b[0m \u001b[32m━━━━━━━━━━━━━━━━━━━━\u001b[0m\u001b[37m\u001b[0m \u001b[1m1s\u001b[0m 52ms/step - accuracy: 0.4285 - loss: 1.4202 - val_accuracy: 0.0000e+00 - val_loss: 10.6689\n",
      "Epoch 66/100\n",
      "\u001b[1m21/21\u001b[0m \u001b[32m━━━━━━━━━━━━━━━━━━━━\u001b[0m\u001b[37m\u001b[0m \u001b[1m1s\u001b[0m 49ms/step - accuracy: 0.4826 - loss: 1.5075 - val_accuracy: 0.0000e+00 - val_loss: 10.5394\n",
      "Epoch 67/100\n",
      "\u001b[1m21/21\u001b[0m \u001b[32m━━━━━━━━━━━━━━━━━━━━\u001b[0m\u001b[37m\u001b[0m \u001b[1m1s\u001b[0m 47ms/step - accuracy: 0.4709 - loss: 1.4199 - val_accuracy: 0.0000e+00 - val_loss: 10.6460\n",
      "Epoch 68/100\n",
      "\u001b[1m21/21\u001b[0m \u001b[32m━━━━━━━━━━━━━━━━━━━━\u001b[0m\u001b[37m\u001b[0m \u001b[1m1s\u001b[0m 47ms/step - accuracy: 0.4936 - loss: 1.3628 - val_accuracy: 0.0000e+00 - val_loss: 10.7308\n",
      "Epoch 69/100\n",
      "\u001b[1m21/21\u001b[0m \u001b[32m━━━━━━━━━━━━━━━━━━━━\u001b[0m\u001b[37m\u001b[0m \u001b[1m1s\u001b[0m 46ms/step - accuracy: 0.6144 - loss: 1.2345 - val_accuracy: 0.0000e+00 - val_loss: 10.4900\n",
      "Epoch 70/100\n",
      "\u001b[1m21/21\u001b[0m \u001b[32m━━━━━━━━━━━━━━━━━━━━\u001b[0m\u001b[37m\u001b[0m \u001b[1m1s\u001b[0m 48ms/step - accuracy: 0.3792 - loss: 1.4910 - val_accuracy: 0.0143 - val_loss: 10.2326\n",
      "Epoch 71/100\n",
      "\u001b[1m21/21\u001b[0m \u001b[32m━━━━━━━━━━━━━━━━━━━━\u001b[0m\u001b[37m\u001b[0m \u001b[1m1s\u001b[0m 46ms/step - accuracy: 0.5062 - loss: 1.3379 - val_accuracy: 0.0000e+00 - val_loss: 10.6881\n",
      "Epoch 72/100\n",
      "\u001b[1m21/21\u001b[0m \u001b[32m━━━━━━━━━━━━━━━━━━━━\u001b[0m\u001b[37m\u001b[0m \u001b[1m1s\u001b[0m 47ms/step - accuracy: 0.4855 - loss: 1.4274 - val_accuracy: 0.0000e+00 - val_loss: 10.9449\n",
      "Epoch 73/100\n",
      "\u001b[1m21/21\u001b[0m \u001b[32m━━━━━━━━━━━━━━━━━━━━\u001b[0m\u001b[37m\u001b[0m \u001b[1m1s\u001b[0m 47ms/step - accuracy: 0.5248 - loss: 1.1798 - val_accuracy: 0.0000e+00 - val_loss: 10.3269\n",
      "Epoch 74/100\n",
      "\u001b[1m21/21\u001b[0m \u001b[32m━━━━━━━━━━━━━━━━━━━━\u001b[0m\u001b[37m\u001b[0m \u001b[1m1s\u001b[0m 46ms/step - accuracy: 0.5006 - loss: 1.2181 - val_accuracy: 0.0000e+00 - val_loss: 10.8985\n",
      "Epoch 75/100\n",
      "\u001b[1m21/21\u001b[0m \u001b[32m━━━━━━━━━━━━━━━━━━━━\u001b[0m\u001b[37m\u001b[0m \u001b[1m1s\u001b[0m 47ms/step - accuracy: 0.4415 - loss: 1.5294 - val_accuracy: 0.0000e+00 - val_loss: 10.7404\n",
      "Epoch 76/100\n",
      "\u001b[1m21/21\u001b[0m \u001b[32m━━━━━━━━━━━━━━━━━━━━\u001b[0m\u001b[37m\u001b[0m \u001b[1m1s\u001b[0m 47ms/step - accuracy: 0.5262 - loss: 1.5102 - val_accuracy: 0.0143 - val_loss: 11.0156\n",
      "Epoch 77/100\n",
      "\u001b[1m21/21\u001b[0m \u001b[32m━━━━━━━━━━━━━━━━━━━━\u001b[0m\u001b[37m\u001b[0m \u001b[1m1s\u001b[0m 47ms/step - accuracy: 0.5383 - loss: 1.3205 - val_accuracy: 0.0000e+00 - val_loss: 10.6047\n",
      "Epoch 78/100\n",
      "\u001b[1m21/21\u001b[0m \u001b[32m━━━━━━━━━━━━━━━━━━━━\u001b[0m\u001b[37m\u001b[0m \u001b[1m1s\u001b[0m 47ms/step - accuracy: 0.5966 - loss: 1.0615 - val_accuracy: 0.0000e+00 - val_loss: 10.6402\n",
      "Epoch 79/100\n",
      "\u001b[1m21/21\u001b[0m \u001b[32m━━━━━━━━━━━━━━━━━━━━\u001b[0m\u001b[37m\u001b[0m \u001b[1m1s\u001b[0m 49ms/step - accuracy: 0.5416 - loss: 1.1489 - val_accuracy: 0.0000e+00 - val_loss: 10.7134\n",
      "Epoch 80/100\n",
      "\u001b[1m21/21\u001b[0m \u001b[32m━━━━━━━━━━━━━━━━━━━━\u001b[0m\u001b[37m\u001b[0m \u001b[1m1s\u001b[0m 50ms/step - accuracy: 0.5614 - loss: 1.2136 - val_accuracy: 0.0000e+00 - val_loss: 10.8185\n",
      "Epoch 81/100\n",
      "\u001b[1m21/21\u001b[0m \u001b[32m━━━━━━━━━━━━━━━━━━━━\u001b[0m\u001b[37m\u001b[0m \u001b[1m1s\u001b[0m 47ms/step - accuracy: 0.5800 - loss: 1.1214 - val_accuracy: 0.0000e+00 - val_loss: 10.7239\n",
      "Epoch 82/100\n",
      "\u001b[1m21/21\u001b[0m \u001b[32m━━━━━━━━━━━━━━━━━━━━\u001b[0m\u001b[37m\u001b[0m \u001b[1m1s\u001b[0m 46ms/step - accuracy: 0.5965 - loss: 1.0418 - val_accuracy: 0.0000e+00 - val_loss: 11.1528\n",
      "Epoch 83/100\n",
      "\u001b[1m21/21\u001b[0m \u001b[32m━━━━━━━━━━━━━━━━━━━━\u001b[0m\u001b[37m\u001b[0m \u001b[1m1s\u001b[0m 46ms/step - accuracy: 0.5368 - loss: 1.1953 - val_accuracy: 0.0000e+00 - val_loss: 10.8908\n",
      "Epoch 84/100\n",
      "\u001b[1m21/21\u001b[0m \u001b[32m━━━━━━━━━━━━━━━━━━━━\u001b[0m\u001b[37m\u001b[0m \u001b[1m1s\u001b[0m 48ms/step - accuracy: 0.5264 - loss: 1.1421 - val_accuracy: 0.0000e+00 - val_loss: 10.8406\n",
      "Epoch 85/100\n",
      "\u001b[1m21/21\u001b[0m \u001b[32m━━━━━━━━━━━━━━━━━━━━\u001b[0m\u001b[37m\u001b[0m \u001b[1m1s\u001b[0m 48ms/step - accuracy: 0.5736 - loss: 1.1729 - val_accuracy: 0.0000e+00 - val_loss: 10.6480\n",
      "Epoch 86/100\n",
      "\u001b[1m21/21\u001b[0m \u001b[32m━━━━━━━━━━━━━━━━━━━━\u001b[0m\u001b[37m\u001b[0m \u001b[1m1s\u001b[0m 48ms/step - accuracy: 0.5139 - loss: 1.2206 - val_accuracy: 0.0000e+00 - val_loss: 10.9881\n",
      "Epoch 87/100\n",
      "\u001b[1m21/21\u001b[0m \u001b[32m━━━━━━━━━━━━━━━━━━━━\u001b[0m\u001b[37m\u001b[0m \u001b[1m1s\u001b[0m 52ms/step - accuracy: 0.5812 - loss: 1.0992 - val_accuracy: 0.0000e+00 - val_loss: 10.9985\n",
      "Epoch 88/100\n",
      "\u001b[1m21/21\u001b[0m \u001b[32m━━━━━━━━━━━━━━━━━━━━\u001b[0m\u001b[37m\u001b[0m \u001b[1m1s\u001b[0m 48ms/step - accuracy: 0.5638 - loss: 1.1526 - val_accuracy: 0.0143 - val_loss: 11.0076\n",
      "Epoch 89/100\n",
      "\u001b[1m21/21\u001b[0m \u001b[32m━━━━━━━━━━━━━━━━━━━━\u001b[0m\u001b[37m\u001b[0m \u001b[1m1s\u001b[0m 49ms/step - accuracy: 0.5948 - loss: 1.0742 - val_accuracy: 0.0000e+00 - val_loss: 11.2033\n",
      "Epoch 90/100\n",
      "\u001b[1m21/21\u001b[0m \u001b[32m━━━━━━━━━━━━━━━━━━━━\u001b[0m\u001b[37m\u001b[0m \u001b[1m1s\u001b[0m 50ms/step - accuracy: 0.5505 - loss: 1.2207 - val_accuracy: 0.0000e+00 - val_loss: 10.7874\n",
      "Epoch 91/100\n",
      "\u001b[1m21/21\u001b[0m \u001b[32m━━━━━━━━━━━━━━━━━━━━\u001b[0m\u001b[37m\u001b[0m \u001b[1m1s\u001b[0m 49ms/step - accuracy: 0.6484 - loss: 0.9929 - val_accuracy: 0.0000e+00 - val_loss: 10.5779\n",
      "Epoch 92/100\n",
      "\u001b[1m21/21\u001b[0m \u001b[32m━━━━━━━━━━━━━━━━━━━━\u001b[0m\u001b[37m\u001b[0m \u001b[1m1s\u001b[0m 51ms/step - accuracy: 0.6509 - loss: 1.0663 - val_accuracy: 0.0000e+00 - val_loss: 10.9706\n",
      "Epoch 93/100\n",
      "\u001b[1m21/21\u001b[0m \u001b[32m━━━━━━━━━━━━━━━━━━━━\u001b[0m\u001b[37m\u001b[0m \u001b[1m1s\u001b[0m 46ms/step - accuracy: 0.6405 - loss: 0.9782 - val_accuracy: 0.0000e+00 - val_loss: 10.7233\n",
      "Epoch 94/100\n",
      "\u001b[1m21/21\u001b[0m \u001b[32m━━━━━━━━━━━━━━━━━━━━\u001b[0m\u001b[37m\u001b[0m \u001b[1m1s\u001b[0m 52ms/step - accuracy: 0.4827 - loss: 1.1603 - val_accuracy: 0.0000e+00 - val_loss: 10.8682\n",
      "Epoch 95/100\n",
      "\u001b[1m21/21\u001b[0m \u001b[32m━━━━━━━━━━━━━━━━━━━━\u001b[0m\u001b[37m\u001b[0m \u001b[1m1s\u001b[0m 49ms/step - accuracy: 0.6418 - loss: 0.9065 - val_accuracy: 0.0000e+00 - val_loss: 10.8492\n",
      "Epoch 96/100\n",
      "\u001b[1m21/21\u001b[0m \u001b[32m━━━━━━━━━━━━━━━━━━━━\u001b[0m\u001b[37m\u001b[0m \u001b[1m1s\u001b[0m 46ms/step - accuracy: 0.6377 - loss: 1.0408 - val_accuracy: 0.0000e+00 - val_loss: 10.8016\n",
      "Epoch 97/100\n",
      "\u001b[1m21/21\u001b[0m \u001b[32m━━━━━━━━━━━━━━━━━━━━\u001b[0m\u001b[37m\u001b[0m \u001b[1m1s\u001b[0m 55ms/step - accuracy: 0.5296 - loss: 1.1594 - val_accuracy: 0.0000e+00 - val_loss: 10.7316\n",
      "Epoch 98/100\n",
      "\u001b[1m21/21\u001b[0m \u001b[32m━━━━━━━━━━━━━━━━━━━━\u001b[0m\u001b[37m\u001b[0m \u001b[1m1s\u001b[0m 47ms/step - accuracy: 0.6271 - loss: 1.0093 - val_accuracy: 0.0000e+00 - val_loss: 11.2669\n",
      "Epoch 99/100\n",
      "\u001b[1m21/21\u001b[0m \u001b[32m━━━━━━━━━━━━━━━━━━━━\u001b[0m\u001b[37m\u001b[0m \u001b[1m1s\u001b[0m 47ms/step - accuracy: 0.5505 - loss: 1.2395 - val_accuracy: 0.0000e+00 - val_loss: 11.1576\n",
      "Epoch 100/100\n",
      "\u001b[1m21/21\u001b[0m \u001b[32m━━━━━━━━━━━━━━━━━━━━\u001b[0m\u001b[37m\u001b[0m \u001b[1m1s\u001b[0m 51ms/step - accuracy: 0.6030 - loss: 1.1288 - val_accuracy: 0.0000e+00 - val_loss: 11.0705\n"
     ]
    }
   ],
   "source": [
    "# Train the model\n",
    "# model.fit(x_train, y_train, epochs=num_epochs, batch_size=batch_size, verbose=1)\n",
    "history = model.fit(x_train, y_train, epochs=num_epochs, batch_size=batch_size, verbose=1, validation_split=0.3)"
   ]
  },
  {
   "cell_type": "code",
   "execution_count": 63,
   "metadata": {},
   "outputs": [
    {
     "data": {
      "image/png": "[encoded data removed]",
      "text/plain": [
       "<Figure size 640x480 with 1 Axes>"
      ]
     },
     "metadata": {},
     "output_type": "display_data"
    }
   ],
   "source": [
    "# Plot training history\n",
    "plt.plot(history.history['accuracy'], label='accuracy')\n",
    "plt.plot(history.history['val_accuracy'], label = 'val_accuracy')\n",
    "plt.xlabel('Epoch')\n",
    "plt.ylabel('Accuracy')\n",
    "plt.ylim([0, 1])\n",
    "plt.legend(loc='lower right')\n",
    "plt.show()"
   ]
  },
  {
   "cell_type": "markdown",
   "metadata": {},
   "source": [
    "## Export"
   ]
  },
  {
   "cell_type": "code",
   "execution_count": 64,
   "metadata": {},
   "outputs": [],
   "source": [
    "# # Save model and metadata\n",
    "# model.save(PATH_MODEL)\n",
    "# metadata = {\n",
    "#     'input_size': input_size,\n",
    "#     'output_size': output_size,\n",
    "#     'hidden_size': hidden_size,\n",
    "#     'all_words': all_words,\n",
    "#     'tags': tags,\n",
    "#     'label_encoder_classes': label_encoder.classes_.tolist()\n",
    "# }\n",
    "\n",
    "# with open(PATH_METADATA, 'w') as f:\n",
    "#     json.dump(metadata, f)\n",
    "# print('Training complete. Model and metadata saved.')"
   ]
  },
  {
   "cell_type": "code",
   "execution_count": 65,
   "metadata": {},
   "outputs": [
    {
     "name": "stderr",
     "output_type": "stream",
     "text": [
      "WARNING:absl:You are saving your model as an HDF5 file via `model.save()` or `keras.saving.save_model(model)`. This file format is considered legacy. We recommend using instead the native Keras format, e.g. `model.save('my_model.keras')` or `keras.saving.save_model(model, 'my_model.keras')`. \n"
     ]
    },
    {
     "name": "stdout",
     "output_type": "stream",
     "text": [
      "Training complete. Model and metadata saved.\n"
     ]
    }
   ],
   "source": [
    "# Save model and metadata\n",
    "model.save(PATH_MODEL)\n",
    "metadata = {\n",
    "    'input_size': input_size,\n",
    "    'output_size': output_size,\n",
    "    'hidden_size': hidden_size,\n",
    "    'all_words': all_words,\n",
    "    'tags': tags,\n",
    "    'vectorizer_vocabulary': vectorizer.vocabulary_,\n",
    "    'label_encoder_classes': label_encoder.classes_.tolist()\n",
    "}\n",
    "\n",
    "with open(PATH_METADATA, 'w') as f:\n",
    "    json.dump(metadata, f)\n",
    "print('Training complete. Model and metadata saved.')"
   ]
  },
  {
   "cell_type": "code",
   "execution_count": 67,
   "metadata": {},
   "outputs": [
    {
     "data": {
      "text/plain": [
       "['vectorizer.pkl']"
      ]
     },
     "execution_count": 67,
     "metadata": {},
     "output_type": "execute_result"
    }
   ],
   "source": [
    "\n",
    "import joblib\n",
    "\n",
    "# Save the vectorizer\n",
    "joblib.dump(vectorizer, 'vectorizer.pkl')"
   ]
  }
 ],
 "metadata": {
  "kernelspec": {
   "display_name": "env",
   "language": "python",
   "name": "python3"
  },
  "language_info": {
   "codemirror_mode": {
    "name": "ipython",
    "version": 3
   },
   "file_extension": ".py",
   "mimetype": "text/x-python",
   "name": "python",
   "nbconvert_exporter": "python",
   "pygments_lexer": "ipython3",
   "version": "3.9.7"
  }
 },
 "nbformat": 4,
 "nbformat_minor": 2
}
